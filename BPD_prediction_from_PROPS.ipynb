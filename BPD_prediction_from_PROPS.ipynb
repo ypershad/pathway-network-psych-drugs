{
 "cells": [
  {
   "cell_type": "code",
   "execution_count": 1,
   "metadata": {},
   "outputs": [],
   "source": [
    "import umap\n",
    "\n",
    "from sklearn.model_selection import cross_val_score\n",
    "import matplotlib\n",
    "import numpy as np\n",
    "import matplotlib.pyplot as plt\n",
    "%matplotlib inline  \n",
    "import sklearn\n",
    "import pandas as pd\n",
    "import pickle\n",
    "from collections import Counter\n",
    "from sklearn import tree \n",
    "from sklearn import svm\n",
    "from sklearn.tree import export_graphviz\n",
    "import graphviz\n",
    "\n",
    "import numpy as np\n",
    "import pandas as pd\n",
    "from sklearn.model_selection import train_test_split,LeaveOneOut,LeavePOut\n",
    "from sklearn.tree import DecisionTreeClassifier\n",
    "from sklearn.ensemble import RandomForestClassifier\n",
    "from sklearn.metrics import accuracy_score\n",
    "from sklearn import tree\n",
    "from sklearn.datasets import make_multilabel_classification\n",
    "from sklearn.multiclass import OneVsRestClassifier\n",
    "from sklearn.svm import SVC\n",
    "from sklearn.decomposition import PCA\n",
    "from sklearn.cross_decomposition import CCA"
   ]
  },
  {
   "cell_type": "code",
   "execution_count": 2,
   "metadata": {},
   "outputs": [],
   "source": [
    "# gset = pd.read_csv('combined_batchcorrected_rawexpression.csv',index_col=0)"
   ]
  },
  {
   "cell_type": "code",
   "execution_count": 3,
   "metadata": {},
   "outputs": [],
   "source": [
    "# gset[:5]"
   ]
  },
  {
   "cell_type": "code",
   "execution_count": 4,
   "metadata": {},
   "outputs": [],
   "source": [
    "# gset.shape"
   ]
  },
  {
   "cell_type": "code",
   "execution_count": 5,
   "metadata": {},
   "outputs": [],
   "source": [
    "# # deal with missing #s\n",
    "# gset.replace([np.inf, -np.inf], np.nan)\n",
    "# gset = gset.fillna(gset.mean())"
   ]
  },
  {
   "cell_type": "code",
   "execution_count": 6,
   "metadata": {},
   "outputs": [],
   "source": [
    "# # dimensionality reduction techniques\n",
    "# # pca\n",
    "# fit_pca =PCA()\n",
    "# gset_pca = fit_pca.fit_transform(gset)\n",
    "# gset_pca.shapegset_pca.shape"
   ]
  },
  {
   "cell_type": "code",
   "execution_count": 7,
   "metadata": {},
   "outputs": [],
   "source": [
    "# # pca+umap\n",
    "# fit_pca_umap = umap.UMAP()\n",
    "# gset_pca_umap = fit_pca_umap.fit_transform(gset_pca)\n",
    "# gset_pca_umap.shape"
   ]
  },
  {
   "cell_type": "code",
   "execution_count": 8,
   "metadata": {},
   "outputs": [],
   "source": [
    "# # umap fit method\n",
    "# fit_umap = umap.UMAP()\n",
    "# gset_umap = fit_umap.fit_transform(gset)"
   ]
  },
  {
   "cell_type": "code",
   "execution_count": 9,
   "metadata": {},
   "outputs": [
    {
     "name": "stdout",
     "output_type": "stream",
     "text": [
      "(588, 7)\n"
     ]
    },
    {
     "data": {
      "text/html": [
       "<div>\n",
       "<style scoped>\n",
       "    .dataframe tbody tr th:only-of-type {\n",
       "        vertical-align: middle;\n",
       "    }\n",
       "\n",
       "    .dataframe tbody tr th {\n",
       "        vertical-align: top;\n",
       "    }\n",
       "\n",
       "    .dataframe thead th {\n",
       "        text-align: right;\n",
       "    }\n",
       "</style>\n",
       "<table border=\"1\" class=\"dataframe\">\n",
       "  <thead>\n",
       "    <tr style=\"text-align: right;\">\n",
       "      <th></th>\n",
       "      <th>disease state:ch1</th>\n",
       "      <th>disease</th>\n",
       "      <th>study</th>\n",
       "      <th>gsm</th>\n",
       "      <th>title</th>\n",
       "      <th>characteristics_ch1</th>\n",
       "      <th>diagnosis:ch1</th>\n",
       "    </tr>\n",
       "  </thead>\n",
       "  <tbody>\n",
       "    <tr>\n",
       "      <th>1</th>\n",
       "      <td>acutely admitted, severely psychotic schizophr...</td>\n",
       "      <td>Schizophrenia</td>\n",
       "      <td>GSE27383</td>\n",
       "      <td>GSM677118</td>\n",
       "      <td>NaN</td>\n",
       "      <td>NaN</td>\n",
       "      <td>NaN</td>\n",
       "    </tr>\n",
       "    <tr>\n",
       "      <th>2</th>\n",
       "      <td>acutely admitted, severely psychotic schizophr...</td>\n",
       "      <td>Schizophrenia</td>\n",
       "      <td>GSE27383</td>\n",
       "      <td>GSM677119</td>\n",
       "      <td>NaN</td>\n",
       "      <td>NaN</td>\n",
       "      <td>NaN</td>\n",
       "    </tr>\n",
       "    <tr>\n",
       "      <th>3</th>\n",
       "      <td>acutely admitted, severely psychotic schizophr...</td>\n",
       "      <td>Schizophrenia</td>\n",
       "      <td>GSE27383</td>\n",
       "      <td>GSM677120</td>\n",
       "      <td>NaN</td>\n",
       "      <td>NaN</td>\n",
       "      <td>NaN</td>\n",
       "    </tr>\n",
       "    <tr>\n",
       "      <th>4</th>\n",
       "      <td>acutely admitted, severely psychotic schizophr...</td>\n",
       "      <td>Schizophrenia</td>\n",
       "      <td>GSE27383</td>\n",
       "      <td>GSM677121</td>\n",
       "      <td>NaN</td>\n",
       "      <td>NaN</td>\n",
       "      <td>NaN</td>\n",
       "    </tr>\n",
       "    <tr>\n",
       "      <th>5</th>\n",
       "      <td>acutely admitted, severely psychotic schizophr...</td>\n",
       "      <td>Schizophrenia</td>\n",
       "      <td>GSE27383</td>\n",
       "      <td>GSM677122</td>\n",
       "      <td>NaN</td>\n",
       "      <td>NaN</td>\n",
       "      <td>NaN</td>\n",
       "    </tr>\n",
       "  </tbody>\n",
       "</table>\n",
       "</div>"
      ],
      "text/plain": [
       "                                   disease state:ch1        disease     study  \\\n",
       "1  acutely admitted, severely psychotic schizophr...  Schizophrenia  GSE27383   \n",
       "2  acutely admitted, severely psychotic schizophr...  Schizophrenia  GSE27383   \n",
       "3  acutely admitted, severely psychotic schizophr...  Schizophrenia  GSE27383   \n",
       "4  acutely admitted, severely psychotic schizophr...  Schizophrenia  GSE27383   \n",
       "5  acutely admitted, severely psychotic schizophr...  Schizophrenia  GSE27383   \n",
       "\n",
       "         gsm title characteristics_ch1 diagnosis:ch1  \n",
       "1  GSM677118   NaN                 NaN           NaN  \n",
       "2  GSM677119   NaN                 NaN           NaN  \n",
       "3  GSM677120   NaN                 NaN           NaN  \n",
       "4  GSM677121   NaN                 NaN           NaN  \n",
       "5  GSM677122   NaN                 NaN           NaN  "
      ]
     },
     "execution_count": 9,
     "metadata": {},
     "output_type": "execute_result"
    }
   ],
   "source": [
    "# get labels\n",
    "\n",
    "labels_df = pd.read_csv('combined_labels.csv',index_col=0)\n",
    "# labels_df['disease_label'] = 0\n",
    "# for idx, row in labels_df.iterrows():\n",
    "#     if row['disease'] == \"Schizophrenia\":\n",
    "#         labels_df.at[idx,'disease_label'] = 1\n",
    "#     elif row['disease'] == \"Bipolar Disorder\" or row['disease'] == \"Bipolar Disease\":\n",
    "#         labels_df.at[idx,'disease_label'] = 2\n",
    "#     elif row['disease'] == \"Major Depressive Disorder\":\n",
    "#         labels_df.at[idx,'disease_label'] = 3\n",
    "print(labels_df.shape)\n",
    "labels_df[:5]"
   ]
  },
  {
   "cell_type": "code",
   "execution_count": 10,
   "metadata": {},
   "outputs": [],
   "source": [
    "# gset_info_df = gset.merge(labels_df, left_index=True, right_on='gsm')[['disease','study','gsm']]\n",
    "# gset_info_df['disease_label']= gset_info_df.disease.map({'Control': 0, 'Major Depressive Disorder': 1, 'Schizophrenia': 0, 'Bipolar Disorder': 0})\n",
    "# gset_info_df['study_label']= gset_info_df.study.map({'GSE92538': 0, 'GSE98793': 1, 'GSE27383': 2, 'GSE21138': 3, 'GSE120340': 4})\n",
    "\n",
    "# gset_info_df[:5]"
   ]
  },
  {
   "cell_type": "code",
   "execution_count": 11,
   "metadata": {},
   "outputs": [],
   "source": [
    "# # get disease labels\n",
    "# # disease_labels_str_dict = pd.Series(labels_df.disease.values,index=labels_df.gsm).to_dict()\n",
    "# # disease_labels_dict = pd.Series(labels_df.disease_label.values,index=labels_df.gsm).to_dict()\n",
    "# # disease_labels_str = gset.index.map(disease_labels_str_dict)\n",
    "# disease_labels_str = gset_info_df['disease']\n",
    "# disease_labels = gset_info_df['disease_label']\n",
    "# disease_labels = disease_labels.fillna(0).astype(int)\n",
    "# diseases = ['Control','Major Depressive Disorder','Schizophrenia', 'Bipolar Disorder']\n",
    "# print(len(disease_labels))\n",
    "# print(diseases)\n",
    "# print(Counter(disease_labels))\n",
    "# print(Counter(disease_labels_str))"
   ]
  },
  {
   "cell_type": "code",
   "execution_count": 12,
   "metadata": {},
   "outputs": [],
   "source": [
    "# # gse labels\n",
    "# gses=['GSE92538', 'GSE98793', 'GSE27383', 'GSE21138', 'GSE120340']\n",
    "# gse_labels_str = gset_info_df['study']\n",
    "# gse_labels = gset_info_df['study_label']\n",
    "# print(len(gse_labels))\n",
    "# print(Counter(gse_labels))\n",
    "# print(Counter(gse_labels_str))"
   ]
  },
  {
   "cell_type": "markdown",
   "metadata": {},
   "source": [
    "# PROPS Approach"
   ]
  },
  {
   "cell_type": "code",
   "execution_count": 13,
   "metadata": {},
   "outputs": [
    {
     "data": {
      "text/html": [
       "<div>\n",
       "<style scoped>\n",
       "    .dataframe tbody tr th:only-of-type {\n",
       "        vertical-align: middle;\n",
       "    }\n",
       "\n",
       "    .dataframe tbody tr th {\n",
       "        vertical-align: top;\n",
       "    }\n",
       "\n",
       "    .dataframe thead th {\n",
       "        text-align: right;\n",
       "    }\n",
       "</style>\n",
       "<table border=\"1\" class=\"dataframe\">\n",
       "  <thead>\n",
       "    <tr style=\"text-align: right;\">\n",
       "      <th></th>\n",
       "      <th>pathway_ID</th>\n",
       "      <th>GSM3398487</th>\n",
       "      <th>GSM3398488</th>\n",
       "      <th>GSM3398489</th>\n",
       "      <th>GSM3398490</th>\n",
       "      <th>GSM3398491</th>\n",
       "      <th>GSM3398492</th>\n",
       "      <th>GSM3398493</th>\n",
       "      <th>GSM3398494</th>\n",
       "      <th>GSM3398495</th>\n",
       "      <th>...</th>\n",
       "      <th>GSM2432044</th>\n",
       "      <th>GSM2432049</th>\n",
       "      <th>GSM2432057</th>\n",
       "      <th>GSM2432059</th>\n",
       "      <th>GSM2432072</th>\n",
       "      <th>GSM2432075</th>\n",
       "      <th>GSM2432085</th>\n",
       "      <th>GSM2432086</th>\n",
       "      <th>GSM2432088</th>\n",
       "      <th>GSM2432090</th>\n",
       "    </tr>\n",
       "  </thead>\n",
       "  <tbody>\n",
       "    <tr>\n",
       "      <th>1</th>\n",
       "      <td>00010.xml</td>\n",
       "      <td>-9.895942</td>\n",
       "      <td>-9.402458</td>\n",
       "      <td>-10.333418</td>\n",
       "      <td>-9.313229</td>\n",
       "      <td>-12.674237</td>\n",
       "      <td>-11.002089</td>\n",
       "      <td>-9.123498</td>\n",
       "      <td>-10.339568</td>\n",
       "      <td>-12.226166</td>\n",
       "      <td>...</td>\n",
       "      <td>-21.404894</td>\n",
       "      <td>-9.106667</td>\n",
       "      <td>-9.282351</td>\n",
       "      <td>-3.607363</td>\n",
       "      <td>-10.230108</td>\n",
       "      <td>-4.535804</td>\n",
       "      <td>-16.108427</td>\n",
       "      <td>-8.351769</td>\n",
       "      <td>-10.044861</td>\n",
       "      <td>-238.114105</td>\n",
       "    </tr>\n",
       "    <tr>\n",
       "      <th>2</th>\n",
       "      <td>00020.xml</td>\n",
       "      <td>-15.785762</td>\n",
       "      <td>-10.173292</td>\n",
       "      <td>-10.543588</td>\n",
       "      <td>-11.715210</td>\n",
       "      <td>-13.417590</td>\n",
       "      <td>-11.585305</td>\n",
       "      <td>-11.121884</td>\n",
       "      <td>-13.583983</td>\n",
       "      <td>-12.045595</td>\n",
       "      <td>...</td>\n",
       "      <td>-8.991958</td>\n",
       "      <td>-7.920727</td>\n",
       "      <td>-8.073851</td>\n",
       "      <td>-7.731123</td>\n",
       "      <td>-8.370115</td>\n",
       "      <td>-8.763573</td>\n",
       "      <td>-6.158938</td>\n",
       "      <td>-8.412651</td>\n",
       "      <td>-7.953638</td>\n",
       "      <td>-97.029385</td>\n",
       "    </tr>\n",
       "    <tr>\n",
       "      <th>3</th>\n",
       "      <td>00030.xml</td>\n",
       "      <td>-7.616256</td>\n",
       "      <td>-4.584654</td>\n",
       "      <td>-6.293867</td>\n",
       "      <td>-5.626597</td>\n",
       "      <td>-7.102741</td>\n",
       "      <td>-7.024158</td>\n",
       "      <td>-5.503789</td>\n",
       "      <td>-8.012068</td>\n",
       "      <td>-9.232267</td>\n",
       "      <td>...</td>\n",
       "      <td>-6.184027</td>\n",
       "      <td>-3.964337</td>\n",
       "      <td>-5.421821</td>\n",
       "      <td>-9.379734</td>\n",
       "      <td>-12.090192</td>\n",
       "      <td>-2.452039</td>\n",
       "      <td>-7.664569</td>\n",
       "      <td>-3.377124</td>\n",
       "      <td>-3.746223</td>\n",
       "      <td>-62.341466</td>\n",
       "    </tr>\n",
       "    <tr>\n",
       "      <th>4</th>\n",
       "      <td>00040.xml</td>\n",
       "      <td>-9.133081</td>\n",
       "      <td>-4.832528</td>\n",
       "      <td>-6.944735</td>\n",
       "      <td>-7.904467</td>\n",
       "      <td>-6.032927</td>\n",
       "      <td>-4.728201</td>\n",
       "      <td>-7.007052</td>\n",
       "      <td>-7.665162</td>\n",
       "      <td>-8.875407</td>\n",
       "      <td>...</td>\n",
       "      <td>-4.980902</td>\n",
       "      <td>-1.931260</td>\n",
       "      <td>-5.942128</td>\n",
       "      <td>-7.814744</td>\n",
       "      <td>-2.788436</td>\n",
       "      <td>-4.105343</td>\n",
       "      <td>-6.713435</td>\n",
       "      <td>-2.825407</td>\n",
       "      <td>-5.983287</td>\n",
       "      <td>-76.580487</td>\n",
       "    </tr>\n",
       "    <tr>\n",
       "      <th>5</th>\n",
       "      <td>00051.xml</td>\n",
       "      <td>-6.785535</td>\n",
       "      <td>-4.488263</td>\n",
       "      <td>-5.528785</td>\n",
       "      <td>-3.390019</td>\n",
       "      <td>-7.221015</td>\n",
       "      <td>-6.002834</td>\n",
       "      <td>-5.084589</td>\n",
       "      <td>-6.046549</td>\n",
       "      <td>-7.621705</td>\n",
       "      <td>...</td>\n",
       "      <td>-6.150147</td>\n",
       "      <td>-3.287794</td>\n",
       "      <td>-1.494484</td>\n",
       "      <td>-0.323481</td>\n",
       "      <td>-10.036542</td>\n",
       "      <td>-1.946388</td>\n",
       "      <td>-7.634848</td>\n",
       "      <td>1.793308</td>\n",
       "      <td>-6.325226</td>\n",
       "      <td>-61.595918</td>\n",
       "    </tr>\n",
       "  </tbody>\n",
       "</table>\n",
       "<p>5 rows × 338 columns</p>\n",
       "</div>"
      ],
      "text/plain": [
       "  pathway_ID  GSM3398487  GSM3398488  GSM3398489  GSM3398490  GSM3398491  \\\n",
       "1  00010.xml   -9.895942   -9.402458  -10.333418   -9.313229  -12.674237   \n",
       "2  00020.xml  -15.785762  -10.173292  -10.543588  -11.715210  -13.417590   \n",
       "3  00030.xml   -7.616256   -4.584654   -6.293867   -5.626597   -7.102741   \n",
       "4  00040.xml   -9.133081   -4.832528   -6.944735   -7.904467   -6.032927   \n",
       "5  00051.xml   -6.785535   -4.488263   -5.528785   -3.390019   -7.221015   \n",
       "\n",
       "   GSM3398492  GSM3398493  GSM3398494  GSM3398495  ...  GSM2432044  \\\n",
       "1  -11.002089   -9.123498  -10.339568  -12.226166  ...  -21.404894   \n",
       "2  -11.585305  -11.121884  -13.583983  -12.045595  ...   -8.991958   \n",
       "3   -7.024158   -5.503789   -8.012068   -9.232267  ...   -6.184027   \n",
       "4   -4.728201   -7.007052   -7.665162   -8.875407  ...   -4.980902   \n",
       "5   -6.002834   -5.084589   -6.046549   -7.621705  ...   -6.150147   \n",
       "\n",
       "   GSM2432049  GSM2432057  GSM2432059  GSM2432072  GSM2432075  GSM2432085  \\\n",
       "1   -9.106667   -9.282351   -3.607363  -10.230108   -4.535804  -16.108427   \n",
       "2   -7.920727   -8.073851   -7.731123   -8.370115   -8.763573   -6.158938   \n",
       "3   -3.964337   -5.421821   -9.379734  -12.090192   -2.452039   -7.664569   \n",
       "4   -1.931260   -5.942128   -7.814744   -2.788436   -4.105343   -6.713435   \n",
       "5   -3.287794   -1.494484   -0.323481  -10.036542   -1.946388   -7.634848   \n",
       "\n",
       "   GSM2432086  GSM2432088  GSM2432090  \n",
       "1   -8.351769  -10.044861 -238.114105  \n",
       "2   -8.412651   -7.953638  -97.029385  \n",
       "3   -3.377124   -3.746223  -62.341466  \n",
       "4   -2.825407   -5.983287  -76.580487  \n",
       "5    1.793308   -6.325226  -61.595918  \n",
       "\n",
       "[5 rows x 338 columns]"
      ]
     },
     "execution_count": 13,
     "metadata": {},
     "output_type": "execute_result"
    }
   ],
   "source": [
    "props_df = pd.read_csv('combat_combined_propsfeatures.csv',index_col=0)\n",
    "props_df[:5]"
   ]
  },
  {
   "cell_type": "code",
   "execution_count": 14,
   "metadata": {},
   "outputs": [
    {
     "data": {
      "text/plain": [
       "(261, 338)"
      ]
     },
     "execution_count": 14,
     "metadata": {},
     "output_type": "execute_result"
    }
   ],
   "source": [
    "props_df.shape"
   ]
  },
  {
   "cell_type": "code",
   "execution_count": 15,
   "metadata": {},
   "outputs": [],
   "source": [
    "props_df.index=props_df.pathway_ID\n",
    "props = props_df.T\n",
    "props=props.iloc[1:,:]# remove pathway_ID row"
   ]
  },
  {
   "cell_type": "code",
   "execution_count": 16,
   "metadata": {},
   "outputs": [
    {
     "data": {
      "text/html": [
       "<div>\n",
       "<style scoped>\n",
       "    .dataframe tbody tr th:only-of-type {\n",
       "        vertical-align: middle;\n",
       "    }\n",
       "\n",
       "    .dataframe tbody tr th {\n",
       "        vertical-align: top;\n",
       "    }\n",
       "\n",
       "    .dataframe thead th {\n",
       "        text-align: right;\n",
       "    }\n",
       "</style>\n",
       "<table border=\"1\" class=\"dataframe\">\n",
       "  <thead>\n",
       "    <tr style=\"text-align: right;\">\n",
       "      <th>pathway_ID</th>\n",
       "      <th>00010.xml</th>\n",
       "      <th>00020.xml</th>\n",
       "      <th>00030.xml</th>\n",
       "      <th>00040.xml</th>\n",
       "      <th>00051.xml</th>\n",
       "      <th>00052.xml</th>\n",
       "      <th>00061.xml</th>\n",
       "      <th>00062.xml</th>\n",
       "      <th>00071.xml</th>\n",
       "      <th>00072.xml</th>\n",
       "      <th>...</th>\n",
       "      <th>05320.xml</th>\n",
       "      <th>05321.xml</th>\n",
       "      <th>05322.xml</th>\n",
       "      <th>05323.xml</th>\n",
       "      <th>05330.xml</th>\n",
       "      <th>05332.xml</th>\n",
       "      <th>05410.xml</th>\n",
       "      <th>05412.xml</th>\n",
       "      <th>05414.xml</th>\n",
       "      <th>05416.xml</th>\n",
       "    </tr>\n",
       "  </thead>\n",
       "  <tbody>\n",
       "    <tr>\n",
       "      <th>GSM3398487</th>\n",
       "      <td>-9.89594</td>\n",
       "      <td>-15.7858</td>\n",
       "      <td>-7.61626</td>\n",
       "      <td>-9.13308</td>\n",
       "      <td>-6.78554</td>\n",
       "      <td>-3.9046</td>\n",
       "      <td>-10.8623</td>\n",
       "      <td>-8.37965</td>\n",
       "      <td>-17.6961</td>\n",
       "      <td>-2.26185</td>\n",
       "      <td>...</td>\n",
       "      <td>-4.19158</td>\n",
       "      <td>-31.7155</td>\n",
       "      <td>-10.1775</td>\n",
       "      <td>-9.56433</td>\n",
       "      <td>-4.19158</td>\n",
       "      <td>-13.4545</td>\n",
       "      <td>-12.687</td>\n",
       "      <td>-17.2614</td>\n",
       "      <td>-40.5972</td>\n",
       "      <td>-20.6292</td>\n",
       "    </tr>\n",
       "    <tr>\n",
       "      <th>GSM3398488</th>\n",
       "      <td>-9.40246</td>\n",
       "      <td>-10.1733</td>\n",
       "      <td>-4.58465</td>\n",
       "      <td>-4.83253</td>\n",
       "      <td>-4.48826</td>\n",
       "      <td>-3.12131</td>\n",
       "      <td>-5.34664</td>\n",
       "      <td>-4.61874</td>\n",
       "      <td>-7.19308</td>\n",
       "      <td>-3.81999</td>\n",
       "      <td>...</td>\n",
       "      <td>-3.80106</td>\n",
       "      <td>-22.1907</td>\n",
       "      <td>-5.19814</td>\n",
       "      <td>-9.70874</td>\n",
       "      <td>-3.80106</td>\n",
       "      <td>-10.0763</td>\n",
       "      <td>-7.9244</td>\n",
       "      <td>-7.58286</td>\n",
       "      <td>-24.9845</td>\n",
       "      <td>-12.999</td>\n",
       "    </tr>\n",
       "    <tr>\n",
       "      <th>GSM3398489</th>\n",
       "      <td>-10.3334</td>\n",
       "      <td>-10.5436</td>\n",
       "      <td>-6.29387</td>\n",
       "      <td>-6.94473</td>\n",
       "      <td>-5.52879</td>\n",
       "      <td>-3.28054</td>\n",
       "      <td>-6.66612</td>\n",
       "      <td>-4.82347</td>\n",
       "      <td>-10.7511</td>\n",
       "      <td>-3.61166</td>\n",
       "      <td>...</td>\n",
       "      <td>-4.79731</td>\n",
       "      <td>-23.1687</td>\n",
       "      <td>-5.53471</td>\n",
       "      <td>-10.3617</td>\n",
       "      <td>-4.79731</td>\n",
       "      <td>-11.6457</td>\n",
       "      <td>-6.36373</td>\n",
       "      <td>-8.26657</td>\n",
       "      <td>-24.4569</td>\n",
       "      <td>-13.4416</td>\n",
       "    </tr>\n",
       "    <tr>\n",
       "      <th>GSM3398490</th>\n",
       "      <td>-9.31323</td>\n",
       "      <td>-11.7152</td>\n",
       "      <td>-5.6266</td>\n",
       "      <td>-7.90447</td>\n",
       "      <td>-3.39002</td>\n",
       "      <td>-2.4044</td>\n",
       "      <td>-7.42492</td>\n",
       "      <td>-2.59701</td>\n",
       "      <td>-9.62597</td>\n",
       "      <td>-2.68202</td>\n",
       "      <td>...</td>\n",
       "      <td>-3.99012</td>\n",
       "      <td>-22.238</td>\n",
       "      <td>-5.95358</td>\n",
       "      <td>-9.2952</td>\n",
       "      <td>-3.99012</td>\n",
       "      <td>-13.7074</td>\n",
       "      <td>-7.28014</td>\n",
       "      <td>-8.64671</td>\n",
       "      <td>-26.5986</td>\n",
       "      <td>-13.5814</td>\n",
       "    </tr>\n",
       "    <tr>\n",
       "      <th>GSM3398491</th>\n",
       "      <td>-12.6742</td>\n",
       "      <td>-13.4176</td>\n",
       "      <td>-7.10274</td>\n",
       "      <td>-6.03293</td>\n",
       "      <td>-7.22102</td>\n",
       "      <td>-3.62479</td>\n",
       "      <td>-7.51341</td>\n",
       "      <td>-4.21453</td>\n",
       "      <td>-12.1408</td>\n",
       "      <td>-2.35407</td>\n",
       "      <td>...</td>\n",
       "      <td>-5.29811</td>\n",
       "      <td>-22.7053</td>\n",
       "      <td>-4.97877</td>\n",
       "      <td>-8.97901</td>\n",
       "      <td>-5.29811</td>\n",
       "      <td>-11.3798</td>\n",
       "      <td>-9.05839</td>\n",
       "      <td>-11.7407</td>\n",
       "      <td>-29.1432</td>\n",
       "      <td>-17.5016</td>\n",
       "    </tr>\n",
       "  </tbody>\n",
       "</table>\n",
       "<p>5 rows × 261 columns</p>\n",
       "</div>"
      ],
      "text/plain": [
       "pathway_ID 00010.xml 00020.xml 00030.xml 00040.xml 00051.xml 00052.xml  \\\n",
       "GSM3398487  -9.89594  -15.7858  -7.61626  -9.13308  -6.78554   -3.9046   \n",
       "GSM3398488  -9.40246  -10.1733  -4.58465  -4.83253  -4.48826  -3.12131   \n",
       "GSM3398489  -10.3334  -10.5436  -6.29387  -6.94473  -5.52879  -3.28054   \n",
       "GSM3398490  -9.31323  -11.7152   -5.6266  -7.90447  -3.39002   -2.4044   \n",
       "GSM3398491  -12.6742  -13.4176  -7.10274  -6.03293  -7.22102  -3.62479   \n",
       "\n",
       "pathway_ID 00061.xml 00062.xml 00071.xml 00072.xml  ... 05320.xml 05321.xml  \\\n",
       "GSM3398487  -10.8623  -8.37965  -17.6961  -2.26185  ...  -4.19158  -31.7155   \n",
       "GSM3398488  -5.34664  -4.61874  -7.19308  -3.81999  ...  -3.80106  -22.1907   \n",
       "GSM3398489  -6.66612  -4.82347  -10.7511  -3.61166  ...  -4.79731  -23.1687   \n",
       "GSM3398490  -7.42492  -2.59701  -9.62597  -2.68202  ...  -3.99012   -22.238   \n",
       "GSM3398491  -7.51341  -4.21453  -12.1408  -2.35407  ...  -5.29811  -22.7053   \n",
       "\n",
       "pathway_ID 05322.xml 05323.xml 05330.xml 05332.xml 05410.xml 05412.xml  \\\n",
       "GSM3398487  -10.1775  -9.56433  -4.19158  -13.4545   -12.687  -17.2614   \n",
       "GSM3398488  -5.19814  -9.70874  -3.80106  -10.0763   -7.9244  -7.58286   \n",
       "GSM3398489  -5.53471  -10.3617  -4.79731  -11.6457  -6.36373  -8.26657   \n",
       "GSM3398490  -5.95358   -9.2952  -3.99012  -13.7074  -7.28014  -8.64671   \n",
       "GSM3398491  -4.97877  -8.97901  -5.29811  -11.3798  -9.05839  -11.7407   \n",
       "\n",
       "pathway_ID 05414.xml 05416.xml  \n",
       "GSM3398487  -40.5972  -20.6292  \n",
       "GSM3398488  -24.9845   -12.999  \n",
       "GSM3398489  -24.4569  -13.4416  \n",
       "GSM3398490  -26.5986  -13.5814  \n",
       "GSM3398491  -29.1432  -17.5016  \n",
       "\n",
       "[5 rows x 261 columns]"
      ]
     },
     "execution_count": 16,
     "metadata": {},
     "output_type": "execute_result"
    }
   ],
   "source": [
    "props[:5]"
   ]
  },
  {
   "cell_type": "code",
   "execution_count": 18,
   "metadata": {},
   "outputs": [
    {
     "data": {
      "text/html": [
       "<div>\n",
       "<style scoped>\n",
       "    .dataframe tbody tr th:only-of-type {\n",
       "        vertical-align: middle;\n",
       "    }\n",
       "\n",
       "    .dataframe tbody tr th {\n",
       "        vertical-align: top;\n",
       "    }\n",
       "\n",
       "    .dataframe thead th {\n",
       "        text-align: right;\n",
       "    }\n",
       "</style>\n",
       "<table border=\"1\" class=\"dataframe\">\n",
       "  <thead>\n",
       "    <tr style=\"text-align: right;\">\n",
       "      <th></th>\n",
       "      <th>disease</th>\n",
       "      <th>study</th>\n",
       "      <th>gsm</th>\n",
       "      <th>disease_label</th>\n",
       "      <th>study_label</th>\n",
       "    </tr>\n",
       "  </thead>\n",
       "  <tbody>\n",
       "    <tr>\n",
       "      <th>142</th>\n",
       "      <td>Schizophrenia</td>\n",
       "      <td>GSE120340</td>\n",
       "      <td>GSM3398487</td>\n",
       "      <td>0</td>\n",
       "      <td>4</td>\n",
       "    </tr>\n",
       "    <tr>\n",
       "      <th>143</th>\n",
       "      <td>Schizophrenia</td>\n",
       "      <td>GSE120340</td>\n",
       "      <td>GSM3398488</td>\n",
       "      <td>0</td>\n",
       "      <td>4</td>\n",
       "    </tr>\n",
       "    <tr>\n",
       "      <th>144</th>\n",
       "      <td>Schizophrenia</td>\n",
       "      <td>GSE120340</td>\n",
       "      <td>GSM3398489</td>\n",
       "      <td>0</td>\n",
       "      <td>4</td>\n",
       "    </tr>\n",
       "    <tr>\n",
       "      <th>145</th>\n",
       "      <td>Schizophrenia</td>\n",
       "      <td>GSE120340</td>\n",
       "      <td>GSM3398490</td>\n",
       "      <td>0</td>\n",
       "      <td>4</td>\n",
       "    </tr>\n",
       "    <tr>\n",
       "      <th>146</th>\n",
       "      <td>Schizophrenia</td>\n",
       "      <td>GSE120340</td>\n",
       "      <td>GSM3398491</td>\n",
       "      <td>0</td>\n",
       "      <td>4</td>\n",
       "    </tr>\n",
       "  </tbody>\n",
       "</table>\n",
       "</div>"
      ],
      "text/plain": [
       "           disease      study         gsm  disease_label  study_label\n",
       "142  Schizophrenia  GSE120340  GSM3398487              0            4\n",
       "143  Schizophrenia  GSE120340  GSM3398488              0            4\n",
       "144  Schizophrenia  GSE120340  GSM3398489              0            4\n",
       "145  Schizophrenia  GSE120340  GSM3398490              0            4\n",
       "146  Schizophrenia  GSE120340  GSM3398491              0            4"
      ]
     },
     "execution_count": 18,
     "metadata": {},
     "output_type": "execute_result"
    }
   ],
   "source": [
    "props_info_df = props.merge(labels_df, left_index=True, right_on='gsm')[['disease','study','gsm']]\n",
    "props_info_df['disease_label']= props_info_df.disease.map({'Control': 0, 'Major Depressive Disorder': 0, 'Schizophrenia': 0, 'Bipolar Disorder': 1})\n",
    "props_info_df['study_label']= props_info_df.study.map({'GSE92538': 0, 'GSE98793': 1, 'GSE27383': 2, 'GSE21138': 3, 'GSE120340': 4})\n",
    "\n",
    "props_info_df[:5]"
   ]
  },
  {
   "cell_type": "code",
   "execution_count": 19,
   "metadata": {},
   "outputs": [
    {
     "name": "stdout",
     "output_type": "stream",
     "text": [
      "337\n",
      "['Control', 'Major Depressive Disorder', 'Schizophrenia', 'Bipolar Disorder']\n",
      "Counter({0: 285, 1: 52})\n",
      "Counter({'Major Depressive Disorder': 175, 'Schizophrenia': 110, 'Bipolar Disorder': 52})\n"
     ]
    }
   ],
   "source": [
    "disease_labels_str = props_info_df['disease']\n",
    "disease_labels = props_info_df['disease_label']\n",
    "disease_labels = disease_labels.fillna(0).astype(int)\n",
    "diseases = ['Control','Major Depressive Disorder','Schizophrenia', 'Bipolar Disorder']\n",
    "print(len(disease_labels))\n",
    "print(diseases)\n",
    "print(Counter(disease_labels))\n",
    "print(Counter(disease_labels_str))"
   ]
  },
  {
   "cell_type": "code",
   "execution_count": 20,
   "metadata": {},
   "outputs": [
    {
     "name": "stdout",
     "output_type": "stream",
     "text": [
      "337\n",
      "Counter({1: 128, 0: 116, 2: 43, 3: 30, 4: 20})\n",
      "Counter({'GSE98793': 128, 'GSE92538': 116, 'GSE27383': 43, 'GSE21138': 30, 'GSE120340': 20})\n"
     ]
    }
   ],
   "source": [
    "# gse labels\n",
    "gses=['GSE92538', 'GSE98793', 'GSE27383', 'GSE21138', 'GSE120340']\n",
    "gse_labels_str = props_info_df['study']\n",
    "gse_labels = props_info_df['study_label']\n",
    "print(len(gse_labels))\n",
    "print(Counter(gse_labels))\n",
    "print(Counter(gse_labels_str))"
   ]
  },
  {
   "cell_type": "code",
   "execution_count": 21,
   "metadata": {},
   "outputs": [
    {
     "data": {
      "text/plain": [
       "(337, 261)"
      ]
     },
     "execution_count": 21,
     "metadata": {},
     "output_type": "execute_result"
    }
   ],
   "source": [
    "# dimensionality reduction techniques\n",
    "# pca\n",
    "fit_pca =PCA()\n",
    "gset_pca = fit_pca.fit_transform(props)\n",
    "gset_pca.shape"
   ]
  },
  {
   "cell_type": "code",
   "execution_count": 22,
   "metadata": {},
   "outputs": [
    {
     "data": {
      "text/plain": [
       "(337, 2)"
      ]
     },
     "execution_count": 22,
     "metadata": {},
     "output_type": "execute_result"
    }
   ],
   "source": [
    "# pca+umap\n",
    "fit_pca_umap = umap.UMAP()\n",
    "gset_pca_umap = fit_pca_umap.fit_transform(gset_pca)\n",
    "gset_pca_umap.shape"
   ]
  },
  {
   "cell_type": "code",
   "execution_count": 23,
   "metadata": {},
   "outputs": [
    {
     "data": {
      "text/plain": [
       "(337, 2)"
      ]
     },
     "execution_count": 23,
     "metadata": {},
     "output_type": "execute_result"
    }
   ],
   "source": [
    "# umap fit method\n",
    "fit_umap = umap.UMAP()\n",
    "gset_umap = fit_umap.fit_transform(props)\n",
    "gset_umap.shape"
   ]
  },
  {
   "cell_type": "code",
   "execution_count": 24,
   "metadata": {},
   "outputs": [
    {
     "data": {
      "image/png": "[encoded data removed]",
      "text/plain": [
       "<Figure size 432x288 with 1 Axes>"
      ]
     },
     "metadata": {
      "needs_background": "light"
     },
     "output_type": "display_data"
    }
   ],
   "source": [
    "# plotting\n",
    "\n",
    "fig, ax = plt.subplots()\n",
    "for idx, color in enumerate(['tab:grey','tab:blue', 'tab:orange', 'tab:green']):\n",
    "    ax.scatter(gset_pca[disease_labels==idx,0], gset_pca[disease_labels==idx,1], c=color, label=diseases[idx],\n",
    "               alpha=0.5, edgecolors='none')\n",
    "\n",
    "ax.legend()\n",
    "ax.grid(True)\n",
    "plt.title('PCA gene expression PC1 v PC2 by disease')\n",
    "\n",
    "plt.show()"
   ]
  },
  {
   "cell_type": "code",
   "execution_count": 25,
   "metadata": {},
   "outputs": [
    {
     "data": {
      "image/png": "[encoded data removed]",
      "text/plain": [
       "<Figure size 432x288 with 1 Axes>"
      ]
     },
     "metadata": {
      "needs_background": "light"
     },
     "output_type": "display_data"
    }
   ],
   "source": [
    "# fig = plt.scatter(u[:,0], u[:,1], c=gse_labels)\n",
    "# plt.legend(fig)\n",
    "fig, ax = plt.subplots()\n",
    "for idx, color in enumerate(['tab:blue', 'tab:orange', 'tab:green','tab:purple','tab:grey']):\n",
    "    ax.scatter(gset_pca[gse_labels==idx,0], gset_pca[gse_labels==idx,1], c=color, label=gses[idx],\n",
    "               alpha=0.5, edgecolors='none')\n",
    "\n",
    "ax.legend()\n",
    "ax.grid(True)\n",
    "plt.title('PCA gene expression PC1 v PC2 by gse')\n",
    "\n",
    "plt.show()"
   ]
  },
  {
   "cell_type": "code",
   "execution_count": 26,
   "metadata": {},
   "outputs": [
    {
     "data": {
      "image/png": "[encoded data removed]",
      "text/plain": [
       "<Figure size 432x288 with 1 Axes>"
      ]
     },
     "metadata": {
      "needs_background": "light"
     },
     "output_type": "display_data"
    }
   ],
   "source": [
    "# plotting\n",
    "\n",
    "fig, ax = plt.subplots()\n",
    "for idx, color in enumerate(['tab:grey','tab:blue', 'tab:orange', 'tab:green']):\n",
    "    ax.scatter(gset_pca_umap[disease_labels==idx,0], gset_pca_umap[disease_labels==idx,1], c=color, label=diseases[idx],\n",
    "               alpha=0.5, edgecolors='none')\n",
    "\n",
    "ax.legend()\n",
    "ax.grid(True)\n",
    "plt.title('Umap post PCA gene expression by disease')\n",
    "\n",
    "plt.show()"
   ]
  },
  {
   "cell_type": "code",
   "execution_count": 27,
   "metadata": {},
   "outputs": [
    {
     "data": {
      "image/png": "[encoded data removed]",
      "text/plain": [
       "<Figure size 432x288 with 1 Axes>"
      ]
     },
     "metadata": {
      "needs_background": "light"
     },
     "output_type": "display_data"
    }
   ],
   "source": [
    "# fig = plt.scatter(u[:,0], u[:,1], c=gse_labels)\n",
    "# plt.legend(fig)\n",
    "fig, ax = plt.subplots()\n",
    "for idx, color in enumerate(['tab:blue', 'tab:orange', 'tab:green','tab:purple','tab:grey']):\n",
    "    ax.scatter(gset_pca_umap[gse_labels==idx,0], gset_pca_umap[gse_labels==idx,1], c=color, label=gses[idx],\n",
    "               alpha=0.5, edgecolors='none')\n",
    "\n",
    "ax.legend()\n",
    "ax.grid(True)\n",
    "plt.title('Umap post PCA gene expression by gse')\n",
    "\n",
    "plt.show()"
   ]
  },
  {
   "cell_type": "code",
   "execution_count": 28,
   "metadata": {},
   "outputs": [
    {
     "data": {
      "image/png": "[encoded data removed]",
      "text/plain": [
       "<Figure size 432x288 with 1 Axes>"
      ]
     },
     "metadata": {
      "needs_background": "light"
     },
     "output_type": "display_data"
    }
   ],
   "source": [
    "# plotting\n",
    "\n",
    "fig, ax = plt.subplots()\n",
    "for idx, color in enumerate(['tab:grey','tab:blue', 'tab:orange', 'tab:green']):\n",
    "    ax.scatter(gset_umap[disease_labels==idx,0], gset_umap[disease_labels==idx,1], c=color, label=diseases[idx],\n",
    "               alpha=0.5, edgecolors='none')\n",
    "\n",
    "ax.legend()\n",
    "ax.grid(True)\n",
    "plt.title('Umap gene expression by disease')\n",
    "\n",
    "plt.show()"
   ]
  },
  {
   "cell_type": "code",
   "execution_count": 29,
   "metadata": {
    "scrolled": true
   },
   "outputs": [
    {
     "data": {
      "image/png": "[encoded data removed]",
      "text/plain": [
       "<Figure size 432x288 with 1 Axes>"
      ]
     },
     "metadata": {
      "needs_background": "light"
     },
     "output_type": "display_data"
    }
   ],
   "source": [
    "# fig = plt.scatter(u[:,0], u[:,1], c=gse_labels)\n",
    "# plt.legend(fig)\n",
    "fig, ax = plt.subplots()\n",
    "for idx, color in enumerate(['tab:blue', 'tab:orange', 'tab:green','tab:purple','tab:grey']):\n",
    "    ax.scatter(gset_umap[gse_labels==idx,0], gset_umap[gse_labels==idx,1], c=color, label=gses[idx],\n",
    "               alpha=0.5, edgecolors='none')\n",
    "\n",
    "ax.legend()\n",
    "ax.grid(True)\n",
    "plt.title('Umap gene expression by gse')\n",
    "\n",
    "plt.show()"
   ]
  },
  {
   "cell_type": "code",
   "execution_count": 30,
   "metadata": {},
   "outputs": [],
   "source": [
    "# # fig = plt.scatter(u[:,0], u[:,1], c=gse_labels)\n",
    "# # plt.legend(fig)\n",
    "# fig, ax = plt.subplots()\n",
    "# disease=['SCZ','MDD','BPD']\n",
    "# for idx, color in enumerate(['tab:blue', 'tab:orange', 'tab:green']):\n",
    "#     ax.scatter(u[disease_labels==(idx+1),2], u[disease_labels==(idx+1),3], c=color, label=disease[idx],\n",
    "#                alpha=0.5, edgecolors='none')\n",
    "\n",
    "# ax.legend()\n",
    "# ax.grid(True)\n",
    "\n",
    "# plt.show()"
   ]
  },
  {
   "cell_type": "code",
   "execution_count": 31,
   "metadata": {},
   "outputs": [],
   "source": [
    "# print('mdd')\n",
    "# for dim in range(u.shape[1]):\n",
    "#     MDD_arr = u[disease_labels==1,dim]\n",
    "#     range_MDD = max(MDD_arr) - min(MDD_arr)\n",
    "#     print(np.std(MDD_arr),range_MDD, dim)\n",
    "# print('bpd')\n",
    "# for dim in range(u.shape[1]):\n",
    "#     BPD_arr = u[disease_labels==2,dim]\n",
    "#     range_BPD = max(BPD_arr) - min(BPD_arr)\n",
    "#     print(np.std(BPD_arr),range_BPD,dim)"
   ]
  },
  {
   "cell_type": "code",
   "execution_count": 32,
   "metadata": {},
   "outputs": [],
   "source": [
    "# # fig = plt.scatter(u[:,0], u[:,1], c=gse_labels)\n",
    "# # plt.legend(fig)\n",
    "# fig, ax = plt.subplots()\n",
    "# gses=['gse98793','gse92538','gse27383']\n",
    "# for idx, color in enumerate(['tab:blue', 'tab:orange', 'tab:green']):\n",
    "#     ax.scatter(u[gse_labels==(idx+1),0], u[gse_labels==(idx+1),1], c=color, label=gses[idx],\n",
    "#                alpha=0.5, edgecolors='none')\n",
    "\n",
    "# ax.legend()\n",
    "# ax.grid(True)\n",
    "\n",
    "# plt.show()"
   ]
  },
  {
   "cell_type": "code",
   "execution_count": 33,
   "metadata": {},
   "outputs": [],
   "source": [
    "# print(propsfeatures.shape)\n",
    "# print(disease_labels.shape)"
   ]
  },
  {
   "cell_type": "code",
   "execution_count": 34,
   "metadata": {},
   "outputs": [],
   "source": [
    "\n",
    "X_train, X_test, y_train, y_test = train_test_split(props, disease_labels, test_size = 0.3, random_state = 10)\n",
    "X_test.replace([np.inf, -np.inf], np.nan)\n",
    "X_test = X_test.fillna(X_test.mean())\n",
    "X_train.replace([np.inf, -np.inf], np.nan)\n",
    "X_train = X_train.fillna(X_train.mean())\n",
    "y_train.replace([np.inf, -np.inf], np.nan)\n",
    "y_train = y_train.fillna(y_train.mean())\n",
    "y_test.replace([np.inf, -np.inf], np.nan)\n",
    "y_test = y_test.fillna(y_test.mean())\n",
    "\n",
    "\n"
   ]
  },
  {
   "cell_type": "code",
   "execution_count": 35,
   "metadata": {},
   "outputs": [],
   "source": [
    "_, _, y_train_gse, y_test_gse = train_test_split(props, gse_labels, test_size = 0.3, random_state = 10)\n"
   ]
  },
  {
   "cell_type": "code",
   "execution_count": 36,
   "metadata": {},
   "outputs": [
    {
     "data": {
      "text/plain": [
       "Counter({0: 91, 1: 11})"
      ]
     },
     "execution_count": 36,
     "metadata": {},
     "output_type": "execute_result"
    }
   ],
   "source": [
    "Counter(y_test)"
   ]
  },
  {
   "cell_type": "markdown",
   "metadata": {},
   "source": [
    "# Disease prediction"
   ]
  },
  {
   "cell_type": "code",
   "execution_count": 37,
   "metadata": {},
   "outputs": [],
   "source": [
    "random_states = np.random.randint(1000,size=100)\n"
   ]
  },
  {
   "cell_type": "code",
   "execution_count": 38,
   "metadata": {
    "scrolled": true
   },
   "outputs": [
    {
     "name": "stdout",
     "output_type": "stream",
     "text": [
      "max_depth 4\n",
      "n_estimators 10\n",
      "min_samples_leaf 4\n",
      "Accuracy is  89.11764705882356\n",
      "max_depth 4\n",
      "n_estimators 50\n",
      "min_samples_leaf 4\n",
      "Accuracy is  89.21568627450985\n",
      "max_depth 4\n",
      "n_estimators 100\n",
      "min_samples_leaf 4\n",
      "Accuracy is  89.21568627450985\n",
      "best accuracy is 89.21568627450985\n",
      "[4, 50, 4]\n"
     ]
    }
   ],
   "source": [
    "# grid search for best hyperparameter\n",
    "best_params = []\n",
    "best_acc = 0\n",
    "best_clf = None\n",
    "clf_arr = []\n",
    "best_clf_arr = []\n",
    "params_arr = []\n",
    "for max_depth in [4]: #tried range 2-5, 4 was consistently the best\n",
    "    for n_estimators in [10,50,100]:#,400]:# tried 10--> 400\n",
    "        for min_samples_leaf in [4]: # tried 2,3,4,5 4 consistently the best\n",
    "            print('max_depth', max_depth)\n",
    "            print('n_estimators', n_estimators)\n",
    "            print('min_samples_leaf',min_samples_leaf)\n",
    "            # average 100 random states:\n",
    "            acc_arr = []\n",
    "            clf_arr = []\n",
    "            for random_state in random_states:\n",
    "                clf_gini = RandomForestClassifier(criterion = \"gini\", random_state = random_state,\n",
    "                                                  n_estimators=n_estimators,\n",
    "                                           max_depth=max_depth, min_samples_leaf=min_samples_leaf)\n",
    "                clf_gini.fit(X_train, y_train)\n",
    "                y_pred = clf_gini.predict(X_test)\n",
    "                acc =  accuracy_score(y_test,y_pred)*100\n",
    "                acc_arr.append(acc)\n",
    "                clf_arr.append(clf_gini)\n",
    "            avg_acc = np.mean(acc_arr)\n",
    "            print(\"Accuracy is \", avg_acc)\n",
    "            if avg_acc > best_acc:\n",
    "                best_params = [max_depth, n_estimators, min_samples_leaf ]\n",
    "                best_acc = avg_acc\n",
    "                best_clf = clf_gini\n",
    "            best_clf_arr.append(clf_arr)\n",
    "            params_arr.append([max_depth, n_estimators, min_samples_leaf ])\n",
    "print('best accuracy is', best_acc)\n",
    "print(best_params)\n"
   ]
  },
  {
   "cell_type": "code",
   "execution_count": 39,
   "metadata": {},
   "outputs": [],
   "source": [
    "# print(y_test)\n",
    "# print(y_pred)\n",
    "# print(y_test_gse)\n"
   ]
  },
  {
   "cell_type": "markdown",
   "metadata": {},
   "source": [
    "# n_estimators =10"
   ]
  },
  {
   "cell_type": "code",
   "execution_count": 40,
   "metadata": {},
   "outputs": [
    {
     "name": "stdout",
     "output_type": "stream",
     "text": [
      "261\n"
     ]
    }
   ],
   "source": [
    "# determine 50 most commonly used features\n",
    "from collections import Counter\n",
    "feature_counter = Counter()\n",
    "\n",
    "clf_arr_10=best_clf_arr[0]\n",
    "tot_num_features = 0\n",
    "for clf in clf_arr_10:# len 100\n",
    "    for estimator in clf: # len 10\n",
    "        tot_num_features+=len(estimator.tree_.feature)\n",
    "        for feature in estimator.tree_.feature:\n",
    "            feature_counter[feature]+=1\n",
    "            \n",
    "feature_counter_exp = {}\n",
    "for key, value in feature_counter.items():\n",
    "    if key != -2:\n",
    "        feature_counter_exp[props.columns.values[key]] = value/tot_num_features*len(random_states)\n",
    "print(len(feature_counter_exp))\n",
    "most_freq_pathways_50 = [x[0] for x in sorted(feature_counter_exp.items(),key=lambda pair: pair[1], reverse=True)][:50]\n"
   ]
  },
  {
   "cell_type": "code",
   "execution_count": 41,
   "metadata": {},
   "outputs": [
    {
     "data": {
      "text/plain": [
       "array([-28.79297161, -62.93041801,  -2.        ,  -2.        ,\n",
       "       -54.2902832 , -30.81985283, -34.86072445,  -2.        ,\n",
       "        -2.        ,  -2.        ,   0.19399953,  -5.41173983,\n",
       "        -2.        ,  -2.        , -13.85827398,  -2.        ,\n",
       "        -2.        ])"
      ]
     },
     "execution_count": 41,
     "metadata": {},
     "output_type": "execute_result"
    }
   ],
   "source": [
    "estimator.tree_.threshold"
   ]
  },
  {
   "cell_type": "code",
   "execution_count": null,
   "metadata": {},
   "outputs": [],
   "source": []
  },
  {
   "cell_type": "code",
   "execution_count": 41,
   "metadata": {
    "scrolled": true
   },
   "outputs": [
    {
     "name": "stdout",
     "output_type": "stream",
     "text": [
      "Accuracy is  81.94117647058823\n"
     ]
    }
   ],
   "source": [
    "# rerun accuracy on the 50 most common featres \n",
    "X_train_select = X_train[most_freq_pathways_50]\n",
    "X_test_select = X_test[most_freq_pathways_50]\n",
    "acc_arr = []\n",
    "clf_arr = []\n",
    "for random_state in random_states:\n",
    "    clf_gini = RandomForestClassifier(criterion = \"gini\", random_state = random_state,\n",
    "                                      n_estimators=10,\n",
    "                               max_depth=4, min_samples_leaf=4)\n",
    "    clf_gini.fit(X_train_select, y_train)\n",
    "    y_pred = clf_gini.predict(X_test_select)\n",
    "    acc =  accuracy_score(y_test,y_pred)*100\n",
    "    acc_arr.append(acc)\n",
    "    clf_arr.append(clf_gini)\n",
    "avg_acc = np.mean(acc_arr)\n",
    "print(\"Accuracy is \", avg_acc)"
   ]
  },
  {
   "cell_type": "code",
   "execution_count": 42,
   "metadata": {
    "scrolled": true
   },
   "outputs": [
    {
     "data": {
      "text/html": [
       "<div>\n",
       "<style scoped>\n",
       "    .dataframe tbody tr th:only-of-type {\n",
       "        vertical-align: middle;\n",
       "    }\n",
       "\n",
       "    .dataframe tbody tr th {\n",
       "        vertical-align: top;\n",
       "    }\n",
       "\n",
       "    .dataframe thead th {\n",
       "        text-align: right;\n",
       "    }\n",
       "</style>\n",
       "<table border=\"1\" class=\"dataframe\">\n",
       "  <thead>\n",
       "    <tr style=\"text-align: right;\">\n",
       "      <th></th>\n",
       "      <th>y_test</th>\n",
       "      <th>y_pred</th>\n",
       "      <th>y_test_gse</th>\n",
       "      <th>acc_bool</th>\n",
       "    </tr>\n",
       "  </thead>\n",
       "  <tbody>\n",
       "    <tr>\n",
       "      <th>252</th>\n",
       "      <td>0</td>\n",
       "      <td>1</td>\n",
       "      <td>1</td>\n",
       "      <td>False</td>\n",
       "    </tr>\n",
       "    <tr>\n",
       "      <th>461</th>\n",
       "      <td>1</td>\n",
       "      <td>0</td>\n",
       "      <td>0</td>\n",
       "      <td>False</td>\n",
       "    </tr>\n",
       "    <tr>\n",
       "      <th>143</th>\n",
       "      <td>1</td>\n",
       "      <td>0</td>\n",
       "      <td>4</td>\n",
       "      <td>False</td>\n",
       "    </tr>\n",
       "    <tr>\n",
       "      <th>521</th>\n",
       "      <td>0</td>\n",
       "      <td>1</td>\n",
       "      <td>0</td>\n",
       "      <td>False</td>\n",
       "    </tr>\n",
       "    <tr>\n",
       "      <th>328</th>\n",
       "      <td>0</td>\n",
       "      <td>1</td>\n",
       "      <td>1</td>\n",
       "      <td>False</td>\n",
       "    </tr>\n",
       "    <tr>\n",
       "      <th>23</th>\n",
       "      <td>1</td>\n",
       "      <td>0</td>\n",
       "      <td>2</td>\n",
       "      <td>False</td>\n",
       "    </tr>\n",
       "    <tr>\n",
       "      <th>381</th>\n",
       "      <td>1</td>\n",
       "      <td>0</td>\n",
       "      <td>0</td>\n",
       "      <td>False</td>\n",
       "    </tr>\n",
       "    <tr>\n",
       "      <th>106</th>\n",
       "      <td>1</td>\n",
       "      <td>0</td>\n",
       "      <td>3</td>\n",
       "      <td>False</td>\n",
       "    </tr>\n",
       "    <tr>\n",
       "      <th>420</th>\n",
       "      <td>0</td>\n",
       "      <td>1</td>\n",
       "      <td>0</td>\n",
       "      <td>False</td>\n",
       "    </tr>\n",
       "    <tr>\n",
       "      <th>72</th>\n",
       "      <td>1</td>\n",
       "      <td>0</td>\n",
       "      <td>2</td>\n",
       "      <td>False</td>\n",
       "    </tr>\n",
       "    <tr>\n",
       "      <th>109</th>\n",
       "      <td>1</td>\n",
       "      <td>0</td>\n",
       "      <td>3</td>\n",
       "      <td>False</td>\n",
       "    </tr>\n",
       "    <tr>\n",
       "      <th>516</th>\n",
       "      <td>1</td>\n",
       "      <td>0</td>\n",
       "      <td>0</td>\n",
       "      <td>False</td>\n",
       "    </tr>\n",
       "    <tr>\n",
       "      <th>51</th>\n",
       "      <td>1</td>\n",
       "      <td>0</td>\n",
       "      <td>2</td>\n",
       "      <td>False</td>\n",
       "    </tr>\n",
       "    <tr>\n",
       "      <th>68</th>\n",
       "      <td>1</td>\n",
       "      <td>0</td>\n",
       "      <td>2</td>\n",
       "      <td>False</td>\n",
       "    </tr>\n",
       "    <tr>\n",
       "      <th>148</th>\n",
       "      <td>1</td>\n",
       "      <td>0</td>\n",
       "      <td>4</td>\n",
       "      <td>False</td>\n",
       "    </tr>\n",
       "    <tr>\n",
       "      <th>107</th>\n",
       "      <td>1</td>\n",
       "      <td>0</td>\n",
       "      <td>3</td>\n",
       "      <td>False</td>\n",
       "    </tr>\n",
       "    <tr>\n",
       "      <th>326</th>\n",
       "      <td>0</td>\n",
       "      <td>1</td>\n",
       "      <td>1</td>\n",
       "      <td>False</td>\n",
       "    </tr>\n",
       "    <tr>\n",
       "      <th>294</th>\n",
       "      <td>0</td>\n",
       "      <td>1</td>\n",
       "      <td>1</td>\n",
       "      <td>False</td>\n",
       "    </tr>\n",
       "    <tr>\n",
       "      <th>565</th>\n",
       "      <td>0</td>\n",
       "      <td>1</td>\n",
       "      <td>0</td>\n",
       "      <td>False</td>\n",
       "    </tr>\n",
       "  </tbody>\n",
       "</table>\n",
       "</div>"
      ],
      "text/plain": [
       "     y_test  y_pred  y_test_gse  acc_bool\n",
       "252       0       1           1     False\n",
       "461       1       0           0     False\n",
       "143       1       0           4     False\n",
       "521       0       1           0     False\n",
       "328       0       1           1     False\n",
       "23        1       0           2     False\n",
       "381       1       0           0     False\n",
       "106       1       0           3     False\n",
       "420       0       1           0     False\n",
       "72        1       0           2     False\n",
       "109       1       0           3     False\n",
       "516       1       0           0     False\n",
       "51        1       0           2     False\n",
       "68        1       0           2     False\n",
       "148       1       0           4     False\n",
       "107       1       0           3     False\n",
       "326       0       1           1     False\n",
       "294       0       1           1     False\n",
       "565       0       1           0     False"
      ]
     },
     "execution_count": 42,
     "metadata": {},
     "output_type": "execute_result"
    }
   ],
   "source": [
    "results=pd.DataFrame({'y_test':y_test,'y_pred':y_pred,'y_test_gse':y_test_gse, 'acc_bool':y_test==y_pred})\n",
    "results[results['acc_bool']==False]"
   ]
  },
  {
   "cell_type": "code",
   "execution_count": 43,
   "metadata": {},
   "outputs": [
    {
     "data": {
      "text/plain": [
       "Counter({0: 78, 1: 24})"
      ]
     },
     "execution_count": 43,
     "metadata": {},
     "output_type": "execute_result"
    }
   ],
   "source": [
    "Counter(y_pred)"
   ]
  },
  {
   "cell_type": "code",
   "execution_count": 44,
   "metadata": {},
   "outputs": [
    {
     "data": {
      "text/plain": [
       "Counter({0: 73, 1: 29})"
      ]
     },
     "execution_count": 44,
     "metadata": {},
     "output_type": "execute_result"
    }
   ],
   "source": [
    "Counter(y_test)"
   ]
  },
  {
   "cell_type": "code",
   "execution_count": 84,
   "metadata": {},
   "outputs": [
    {
     "data": {
      "image/png": "[encoded data removed]",
      "text/plain": [
       "<Figure size 432x288 with 1 Axes>"
      ]
     },
     "metadata": {
      "needs_background": "light"
     },
     "output_type": "display_data"
    }
   ],
   "source": [
    "# umap of test set\n",
    "fit = umap.UMAP()\n",
    "u = fit.fit_transform(X_test)\n",
    "fig, ax = plt.subplots()\n",
    "for idx, color in enumerate(['tab:grey','tab:blue', 'tab:orange', 'tab:green']):\n",
    "    ax.scatter(u[y_test==(idx),0], u[y_test==(idx),1], c=color, label=diseases[idx],\n",
    "               alpha=0.7, edgecolors='none')\n",
    "\n",
    "ax.scatter(u[y_test!=y_pred,0], u[y_test!=y_pred,1],  label='incorrect',\n",
    "               alpha=0.7, edgecolors='red',facecolors='none', )\n",
    "ax.legend()\n",
    "ax.grid(True)\n",
    "plt.title('Disease label umap')\n",
    "\n",
    "plt.show()"
   ]
  },
  {
   "cell_type": "code",
   "execution_count": 86,
   "metadata": {},
   "outputs": [
    {
     "data": {
      "image/png": "[encoded data removed]",
      "text/plain": [
       "<Figure size 432x288 with 1 Axes>"
      ]
     },
     "metadata": {
      "needs_background": "light"
     },
     "output_type": "display_data"
    }
   ],
   "source": [
    "# umap of test set\n",
    "\n",
    "fig, ax = plt.subplots()\n",
    "# disease=['SCZ','MDD','BPD']\n",
    "for idx, color in enumerate(['tab:grey','tab:blue', 'tab:orange', 'tab:green']):\n",
    "    ax.scatter(u[y_pred==(idx),0], u[y_pred==(idx),1], c=color, label=diseases[idx],\n",
    "               alpha=0.7, edgecolors='none')\n",
    "\n",
    "ax.scatter(u[y_test!=y_pred,0], u[y_test!=y_pred,1],  label='incorrect',\n",
    "               alpha=1, edgecolors='red',facecolors='none')\n",
    "ax.legend()\n",
    "ax.grid(True)\n",
    "plt.title('Disease prediction umap')\n",
    "\n",
    "plt.show()"
   ]
  },
  {
   "cell_type": "code",
   "execution_count": 127,
   "metadata": {},
   "outputs": [
    {
     "data": {
      "image/png": "[encoded data removed]",
      "text/plain": [
       "<Figure size 432x288 with 1 Axes>"
      ]
     },
     "metadata": {
      "needs_background": "light"
     },
     "output_type": "display_data"
    }
   ],
   "source": [
    "fig, ax = plt.subplots()\n",
    "gses=['gse98793','gse92538','gse27383']\n",
    "for idx, color in enumerate(['tab:blue', 'tab:orange', 'tab:green']):\n",
    "    ax.scatter(u[y_test_gse==(idx+1),0], u[y_test_gse==(idx+1),1], c=color, label=gses[idx],\n",
    "               alpha=0.7, edgecolors='none')\n",
    "\n",
    "ax.scatter(u[y_test!=y_pred,0], u[y_test!=y_pred,1],  label='incorrect',\n",
    "               alpha=1, edgecolors='red',facecolors='none')\n",
    "ax.legend()\n",
    "ax.grid(True)\n",
    "plt.title('GSE UMAP')\n",
    "plt.show()"
   ]
  },
  {
   "cell_type": "markdown",
   "metadata": {},
   "source": [
    "# n_estimators = 50"
   ]
  },
  {
   "cell_type": "code",
   "execution_count": 42,
   "metadata": {},
   "outputs": [
    {
     "name": "stdout",
     "output_type": "stream",
     "text": [
      "Accuracy: 0.85 (+/- 0.72)\n"
     ]
    }
   ],
   "source": [
    "clf = RandomForestClassifier(criterion = \"gini\", random_state = random_state,\n",
    "                                      n_estimators=50,\n",
    "                               max_depth=4, min_samples_leaf=4)\n",
    "scores = cross_val_score(clf, props, disease_labels, cv=LeaveOneOut())\n",
    "#scores                                              \n",
    "#The mean score and the 95% confidence interval of the score estimate are hence given by:\n",
    "print(\"Accuracy: %0.2f (+/- %0.2f)\" % (scores.mean(), scores.std() * 2))"
   ]
  },
  {
   "cell_type": "code",
   "execution_count": 43,
   "metadata": {},
   "outputs": [
    {
     "name": "stdout",
     "output_type": "stream",
     "text": [
      "261\n"
     ]
    }
   ],
   "source": [
    "feature_counter_50 = Counter()\n",
    "clf_arr_50=best_clf_arr[1]\n",
    "tot_num_features_50 = 0\n",
    "for clf in clf_arr_50:# len 100\n",
    "    for estimator in clf: # len 50\n",
    "        tot_num_features_50+=len(estimator.tree_.feature)\n",
    "        for feature in estimator.tree_.feature:\n",
    "            feature_counter_50[feature]+=1\n",
    "            \n",
    "feature_counter_exp_50 = {}\n",
    "for key, value in feature_counter_50.items():\n",
    "    if key != -2:\n",
    "        feature_counter_exp_50[props.columns.values[key]] = value/tot_num_features_50*len(random_states)\n",
    "print(len(feature_counter_exp_50))\n",
    "most_freq_pathways_50_50 = [x[0] for x in sorted(feature_counter_exp_50.items(),key=lambda pair: pair[1], reverse=True)][:50]\n"
   ]
  },
  {
   "cell_type": "code",
   "execution_count": 44,
   "metadata": {},
   "outputs": [
    {
     "name": "stdout",
     "output_type": "stream",
     "text": [
      "Accuracy is  89.00000000000001\n"
     ]
    }
   ],
   "source": [
    "# rerun accuracy on the 50 most common featres \n",
    "X_train_select = X_train[most_freq_pathways_50_50]\n",
    "X_test_select = X_test[most_freq_pathways_50_50]\n",
    "acc_arr = []\n",
    "clf_arr = []\n",
    "for random_state in random_states:\n",
    "    clf_gini = RandomForestClassifier(criterion = \"gini\", random_state = random_state,\n",
    "                                      n_estimators=10,\n",
    "                               max_depth=4, min_samples_leaf=4)\n",
    "    clf_gini.fit(X_train_select, y_train)\n",
    "    y_pred = clf_gini.predict(X_test_select)\n",
    "    acc =  accuracy_score(y_test,y_pred)*100\n",
    "    acc_arr.append(acc)\n",
    "    clf_arr.append(clf_gini)\n",
    "avg_acc = np.mean(acc_arr)\n",
    "print(\"Accuracy is \", avg_acc)"
   ]
  },
  {
   "cell_type": "markdown",
   "metadata": {},
   "source": [
    "# n_estimators = 100"
   ]
  },
  {
   "cell_type": "code",
   "execution_count": 45,
   "metadata": {},
   "outputs": [
    {
     "name": "stdout",
     "output_type": "stream",
     "text": [
      "261\n"
     ]
    }
   ],
   "source": [
    "feature_counter_100 = Counter()\n",
    "clf_arr_100=best_clf_arr[2]\n",
    "tot_num_features_100 = 0\n",
    "for clf in clf_arr_100:# len 100\n",
    "    for estimator in clf: # len 100\n",
    "        tot_num_features_100+=len(estimator.tree_.feature)\n",
    "        for feature in estimator.tree_.feature:\n",
    "            feature_counter_100[feature]+=1\n",
    "            \n",
    "feature_counter_exp_100 = {}\n",
    "for key, value in feature_counter_100.items():\n",
    "    if key != -2:\n",
    "        feature_counter_exp_100[props.columns.values[key]] = value/tot_num_features_100*len(random_states)\n",
    "print(len(feature_counter_exp_100))\n",
    "most_freq_pathways_50_100 = [x[0] for x in sorted(feature_counter_exp_100.items(),key=lambda pair: pair[1], reverse=True)][:50]\n"
   ]
  },
  {
   "cell_type": "code",
   "execution_count": 46,
   "metadata": {},
   "outputs": [
    {
     "name": "stdout",
     "output_type": "stream",
     "text": [
      "Accuracy is  73.9313725490196\n"
     ]
    }
   ],
   "source": [
    "# rerun accuracy on the 50 most common featres \n",
    "X_train_select = X_train[most_freq_pathways_50_100]\n",
    "X_test_select = X_test[most_freq_pathways_50_100]\n",
    "acc_arr = []\n",
    "clf_arr = []\n",
    "for random_state in random_states:\n",
    "    clf_gini = RandomForestClassifier(criterion = \"gini\", random_state = random_state,\n",
    "                                      n_estimators=10,\n",
    "                               max_depth=4, min_samples_leaf=4)\n",
    "    clf_gini.fit(X_train_select, y_train)\n",
    "    y_pred = clf_gini.predict(X_test_select)\n",
    "    acc =  accuracy_score(y_test,y_pred)*100\n",
    "    acc_arr.append(acc)\n",
    "    clf_arr.append(clf_gini)\n",
    "avg_acc = np.mean(acc_arr)\n",
    "print(\"Accuracy is \", avg_acc)"
   ]
  },
  {
   "cell_type": "markdown",
   "metadata": {},
   "source": [
    "# Feature importance"
   ]
  },
  {
   "cell_type": "code",
   "execution_count": 45,
   "metadata": {},
   "outputs": [],
   "source": [
    "# import kegg pathways and genes\n",
    "df_arr = []\n",
    "with open('kegg_pathways.txt', 'r') as f:\n",
    "    for line in f.readlines():\n",
    "        line_arr = line.strip().split('\\t')\n",
    "        pathway_id = line_arr[0].split(': ')[0]\n",
    "        pathway_name = line_arr[0].split(': ')[1]\n",
    "        source = line_arr[1]\n",
    "        gene_list = line_arr[2].split(',')[:-1]\n",
    "        df_arr.append([pathway_id,pathway_name,source,gene_list])\n",
    "kegg_df = pd.DataFrame(df_arr)\n",
    "kegg_df.columns = ['pathway_id','pathway_name','source','gene_list']\n",
    "###NOTE ONLY USE THE PATHWAY NAMES"
   ]
  },
  {
   "cell_type": "code",
   "execution_count": 46,
   "metadata": {},
   "outputs": [],
   "source": [
    "kegg_ids = ['hsa'+x.split('.')[0] for x in props.columns.values]\n"
   ]
  },
  {
   "cell_type": "code",
   "execution_count": 47,
   "metadata": {},
   "outputs": [],
   "source": [
    "# look at the CLFS FOR n_estimators =10 and find avg feature importance\n",
    "feature_importance_arr =[[]]*props.shape[1]\n",
    "for clf in clf_arr_50:# len 100\n",
    "    for idx,score in enumerate(clf.feature_importances_):\n",
    "        if score >0:\n",
    "            feature_importance_arr[idx] = feature_importance_arr[idx]+[score]\n",
    "\n",
    "feature_importance_arr = [sum(arr) for arr in feature_importance_arr]\n"
   ]
  },
  {
   "cell_type": "code",
   "execution_count": 48,
   "metadata": {},
   "outputs": [],
   "source": [
    "feature_importance_dict = dict(zip(kegg_ids,feature_importance_arr))\n",
    "features_ordered_by_importance = [x for x in sorted(feature_importance_dict.items(),key=lambda pair: pair[1], reverse=True)]\n"
   ]
  },
  {
   "cell_type": "code",
   "execution_count": 49,
   "metadata": {},
   "outputs": [],
   "source": [
    "feature_importance_df = pd.DataFrame({'pathway_id':list(feature_importance_dict.keys()),\n",
    "                                    'importance':list(feature_importance_dict.values())\n",
    "                                     })\n"
   ]
  },
  {
   "cell_type": "code",
   "execution_count": 50,
   "metadata": {},
   "outputs": [],
   "source": [
    "feature_importance_df = feature_importance_df.merge(kegg_df,on='pathway_id')\n",
    "feature_importance_df.sort_values('importance',ascending=False,inplace=True)\n"
   ]
  },
  {
   "cell_type": "code",
   "execution_count": null,
   "metadata": {},
   "outputs": [],
   "source": []
  },
  {
   "cell_type": "code",
   "execution_count": 51,
   "metadata": {},
   "outputs": [],
   "source": [
    "# feature_importance_df[:50]"
   ]
  },
  {
   "cell_type": "code",
   "execution_count": 52,
   "metadata": {},
   "outputs": [
    {
     "data": {
      "text/plain": [
       "set()"
      ]
     },
     "execution_count": 52,
     "metadata": {},
     "output_type": "execute_result"
    }
   ],
   "source": [
    "# import gene \n",
    "kegg_gene_dict = pickle.load(open('kegg_gene_dictionary.pickle','rb'))\n",
    "kegg_gene_dict['00010']"
   ]
  },
  {
   "cell_type": "code",
   "execution_count": 53,
   "metadata": {},
   "outputs": [
    {
     "data": {
      "text/html": [
       "<div>\n",
       "<style scoped>\n",
       "    .dataframe tbody tr th:only-of-type {\n",
       "        vertical-align: middle;\n",
       "    }\n",
       "\n",
       "    .dataframe tbody tr th {\n",
       "        vertical-align: top;\n",
       "    }\n",
       "\n",
       "    .dataframe thead th {\n",
       "        text-align: right;\n",
       "    }\n",
       "</style>\n",
       "<table border=\"1\" class=\"dataframe\">\n",
       "  <thead>\n",
       "    <tr style=\"text-align: right;\">\n",
       "      <th></th>\n",
       "      <th>pathway_id</th>\n",
       "      <th>importance</th>\n",
       "      <th>pathway_name</th>\n",
       "      <th>source</th>\n",
       "      <th>gene_list_new</th>\n",
       "    </tr>\n",
       "  </thead>\n",
       "  <tbody>\n",
       "    <tr>\n",
       "      <th>0</th>\n",
       "      <td>hsa05032</td>\n",
       "      <td>1.973668</td>\n",
       "      <td>Morphine addiction</td>\n",
       "      <td>KEGG_pathway</td>\n",
       "      <td>{2868, 2869, 2870}</td>\n",
       "    </tr>\n",
       "    <tr>\n",
       "      <th>1</th>\n",
       "      <td>hsa04723</td>\n",
       "      <td>1.639501</td>\n",
       "      <td>Retrograde endocannabinoid signaling</td>\n",
       "      <td>KEGG_pathway</td>\n",
       "      <td>{2563, 221955, 2564, 2565, 2566, 2567, 2568, 2...</td>\n",
       "    </tr>\n",
       "    <tr>\n",
       "      <th>2</th>\n",
       "      <td>hsa00830</td>\n",
       "      <td>1.537358</td>\n",
       "      <td>Retinol metabolism</td>\n",
       "      <td>KEGG_pathway</td>\n",
       "      <td>{1548, 50700, 1555, 10901, 8854, 56603, 8608, ...</td>\n",
       "    </tr>\n",
       "    <tr>\n",
       "      <th>3</th>\n",
       "      <td>hsa05010</td>\n",
       "      <td>1.491046</td>\n",
       "      <td>Alzheimer's disease</td>\n",
       "      <td>KEGG_pathway</td>\n",
       "      <td>{25825, 322, 23621, 10313, 8883, 57142, 3416, ...</td>\n",
       "    </tr>\n",
       "    <tr>\n",
       "      <th>4</th>\n",
       "      <td>hsa04740</td>\n",
       "      <td>1.465716</td>\n",
       "      <td>Olfactory transduction</td>\n",
       "      <td>KEGG_pathway</td>\n",
       "      <td>{401427, 83988, 391189, 391190, 391191, 391192...</td>\n",
       "    </tr>\n",
       "  </tbody>\n",
       "</table>\n",
       "</div>"
      ],
      "text/plain": [
       "  pathway_id  importance                          pathway_name        source  \\\n",
       "0   hsa05032    1.973668                    Morphine addiction  KEGG_pathway   \n",
       "1   hsa04723    1.639501  Retrograde endocannabinoid signaling  KEGG_pathway   \n",
       "2   hsa00830    1.537358                    Retinol metabolism  KEGG_pathway   \n",
       "3   hsa05010    1.491046                   Alzheimer's disease  KEGG_pathway   \n",
       "4   hsa04740    1.465716                Olfactory transduction  KEGG_pathway   \n",
       "\n",
       "                                       gene_list_new  \n",
       "0                                 {2868, 2869, 2870}  \n",
       "1  {2563, 221955, 2564, 2565, 2566, 2567, 2568, 2...  \n",
       "2  {1548, 50700, 1555, 10901, 8854, 56603, 8608, ...  \n",
       "3  {25825, 322, 23621, 10313, 8883, 57142, 3416, ...  \n",
       "4  {401427, 83988, 391189, 391190, 391191, 391192...  "
      ]
     },
     "execution_count": 53,
     "metadata": {},
     "output_type": "execute_result"
    }
   ],
   "source": [
    "kegg_gene_dict_renamed = {}\n",
    "for key, value in kegg_gene_dict.items():\n",
    "    kegg_gene_dict_renamed['hsa'+key] = value\n",
    "kegg_gene_dict_renamed_df = pd.DataFrame({'pathway_id':list(kegg_gene_dict_renamed.keys()),\n",
    "                                         'gene_list_new':list(kegg_gene_dict_renamed.values())})\n",
    "kegg_gene_dict_renamed_df = feature_importance_df.merge(kegg_gene_dict_renamed_df,on='pathway_id')\n",
    "kegg_gene_dict_renamed_df['gene_list_intersection'] = ''\n",
    "kegg_gene_dict_renamed_df['gene_list_union'] =''\n",
    "\n",
    "for idx, row in kegg_gene_dict_renamed_df.iterrows():\n",
    "    kegg_gene_dict_renamed_df.at[idx,'gene_list_intersection'] = set(row['gene_list']).intersection(row['gene_list_new'])\n",
    "    kegg_gene_dict_renamed_df.at[idx,'gene_list_union'] = set(row['gene_list']).union(row['gene_list_new'])\n",
    "    \n",
    "# we did the intersection to see if the new and old gene_lists were overlapping, found none. \n",
    "#upon closer inspection used gene_list_new\n",
    "\n",
    "\n",
    "kegg_gene_dict_renamed_df.drop(['gene_list','gene_list_intersection','gene_list_union'],axis=1,inplace=True) \n",
    "kegg_gene_dict_renamed_df[:5]"
   ]
  },
  {
   "cell_type": "code",
   "execution_count": 54,
   "metadata": {},
   "outputs": [],
   "source": [
    "kegg_gene_dict_renamed_df.to_csv('RF_kegg_pathway_props_feature_importance_BPD.csv')"
   ]
  },
  {
   "cell_type": "code",
   "execution_count": 55,
   "metadata": {},
   "outputs": [
    {
     "name": "stdout",
     "output_type": "stream",
     "text": [
      "wrote genes_from_top_10_BPD.txt\n",
      "wrote genes_from_top_20_BPD.txt\n",
      "wrote genes_from_top_30_BPD.txt\n",
      "wrote genes_from_top_50_BPD.txt\n"
     ]
    }
   ],
   "source": [
    "# get the genes that are important from \n",
    "top_x_arr = [10,20,30,50]\n",
    "for top_x in top_x_arr:\n",
    "    gene_set_arr = kegg_gene_dict_renamed_df.loc[:top_x,'gene_list_new']\n",
    "    gene_set_top = set()\n",
    "    for gene_set in gene_set_arr:\n",
    "        gene_set_top = gene_set_top.union(gene_set)\n",
    "    #save to txt, one gene per row\n",
    "    with open('genes_from_top_'+str(top_x)+'_BPD.txt','w') as f:\n",
    "        for gene in gene_set_top:\n",
    "            f.write(str(gene)+'\\n')\n",
    "        print('wrote', 'genes_from_top_'+str(top_x)+'_BPD.txt')\n"
   ]
  },
  {
   "cell_type": "code",
   "execution_count": 203,
   "metadata": {},
   "outputs": [
    {
     "data": {
      "text/plain": [
       "Counter({True: 47, False: 3})"
      ]
     },
     "execution_count": 203,
     "metadata": {},
     "output_type": "execute_result"
    }
   ],
   "source": [
    "# # check if ids in kegg_df\n",
    "# in_kegg_df = [feat in list(kegg_df['pathway_id']) for feat in features_ordered_by_importance]\n",
    "# Counter(in_kegg_df[:50])"
   ]
  },
  {
   "cell_type": "code",
   "execution_count": 206,
   "metadata": {},
   "outputs": [
    {
     "data": {
      "text/plain": [
       "Counter({True: 42, False: 8})"
      ]
     },
     "execution_count": 206,
     "metadata": {},
     "output_type": "execute_result"
    }
   ],
   "source": [
    "\n",
    "# in_gene_dict = [feat[3:] in list(kegg_gene_dict.keys()) for feat in features_ordered_by_importance]\n",
    "# Counter(in_gene_dict[:50])"
   ]
  },
  {
   "cell_type": "code",
   "execution_count": 195,
   "metadata": {},
   "outputs": [
    {
     "data": {
      "text/plain": [
       "set()"
      ]
     },
     "execution_count": 195,
     "metadata": {},
     "output_type": "execute_result"
    }
   ],
   "source": [
    "# # import gene \n",
    "# kegg_gene_dict = pickle.load(open('kegg_gene_dictionary.pickle','rb'))\n",
    "# kegg_gene_dict['00010']"
   ]
  },
  {
   "cell_type": "code",
   "execution_count": null,
   "metadata": {},
   "outputs": [],
   "source": [
    "best_clf.estimators_\n",
    "\n",
    "feature_importances_ : array of shape = [n_features]\n",
    "Return the feature importances.\n",
    "\n",
    "max_features_ : int,\n",
    "The inferred value of max_features.\n",
    "\n",
    "n_classes_ : int or list\n",
    "The number of classes (for single output problems), or a list containing the number of classes for each output (for multi-output problems).\n",
    "\n",
    "n_features_ : int\n",
    "The number of features when fit is performed.\n",
    "\n",
    "n_outputs_ : int\n",
    "The number of outputs when fit is performed.\n",
    "\n",
    "tree_ : Tree object\n",
    "    \n",
    "estimator.tree_"
   ]
  },
  {
   "cell_type": "code",
   "execution_count": null,
   "metadata": {
    "scrolled": true
   },
   "outputs": [],
   "source": [
    "# grid search for best hyperparameter\n",
    "best_params = []\n",
    "best_acc = 0\n",
    "for max_depth in [3,4,5]:\n",
    "    for min_samples_leaf in [3,4,5]:\n",
    "        print('max_depth', max_depth)\n",
    "        print('min_samples_leaf',min_samples_leaf)\n",
    "        # average 100 random states:\n",
    "        acc_arr = []\n",
    "        for random_state in random_states:\n",
    "            clf_gini = DecisionTreeClassifier(criterion = \"gini\", random_state = 100,\n",
    "                                   max_depth=max_depth, min_samples_leaf=min_samples_leaf)\n",
    "            clf_gini.fit(X_train, y_train)\n",
    "            y_pred = clf_gini.predict(X_test)\n",
    "            acc =  accuracy_score(y_test,y_pred)*100\n",
    "            acc_arr.append(acc)\n",
    "        avg_acc = np.mean(acc_arr)\n",
    "        print(\"Accuracy is \", avg_acc)\n",
    "        if avg_acc > best_acc:\n",
    "            best_params = [max_depth, min_samples_leaf ]\n",
    "            best_acc = avg_acc\n",
    "\n",
    "print('best accuracy is', best_acc)\n",
    "print(best_params)\n"
   ]
  },
  {
   "cell_type": "code",
   "execution_count": null,
   "metadata": {},
   "outputs": [],
   "source": [
    "# grid search for best hyperparameter\n",
    "best_params = []\n",
    "best_acc = 0\n",
    "for max_depth in [2,3,4,5]:\n",
    "    for min_samples_leaf in [2,3,4,5]:\n",
    "        print('max_depth', max_depth)\n",
    "        print('min_samples_leaf',min_samples_leaf)\n",
    "        # average 100 random states:\n",
    "        acc_arr = []\n",
    "        for random_state in random_states:\n",
    "            clf_entropy = DecisionTreeClassifier(criterion = \"entropy\", random_state = 100,\n",
    "                                   max_depth=max_depth, min_samples_leaf=min_samples_leaf)\n",
    "            clf_entropy.fit(X_train, y_train)\n",
    "            y_pred = clf_entropy.predict(X_test)\n",
    "            acc =  accuracy_score(y_test,y_pred)*100\n",
    "            acc_arr.append(acc)\n",
    "        avg_acc = np.mean(acc_arr)\n",
    "        print(\"Accuracy is \", avg_acc)\n",
    "        if avg_acc > best_acc:\n",
    "            best_params = [max_depth, min_samples_leaf ]\n",
    "            best_acc = avg_acc\n",
    "\n",
    "print('best accuracy is', best_acc)\n",
    "print(best_params)\n"
   ]
  },
  {
   "cell_type": "code",
   "execution_count": null,
   "metadata": {},
   "outputs": [],
   "source": [
    "# dot_data = tree.export_graphviz(clf_gini, out_file=None, feature_names=propsfeatures.columns, class_names=['SCZ', 'BPD', 'MDD'], \n",
    "#                                 filled=True, rounded=True, special_characters=True)  \n",
    "# graph = graphviz.Source(dot_data)  \n",
    "# graph"
   ]
  },
  {
   "cell_type": "code",
   "execution_count": null,
   "metadata": {},
   "outputs": [],
   "source": [
    "# check for each tree how many features were used and \n",
    "# find the proportion per pathway of the number of tre that pathway was in\n"
   ]
  },
  {
   "cell_type": "code",
   "execution_count": null,
   "metadata": {},
   "outputs": [],
   "source": [
    "for name, importance in zip(propsfeatures.columns, clf_gini.feature_importances_):\n",
    "    if importance != 0:\n",
    "        print(name, importance)"
   ]
  },
  {
   "cell_type": "code",
   "execution_count": null,
   "metadata": {},
   "outputs": [],
   "source": [
    "# check for each tree how many features were used and \n",
    "# find the proportion per pathway of the number of tre that pathway was in\n"
   ]
  },
  {
   "cell_type": "code",
   "execution_count": null,
   "metadata": {},
   "outputs": [],
   "source": [
    "# run RF where we only use a certain number of features each time\n"
   ]
  },
  {
   "cell_type": "code",
   "execution_count": null,
   "metadata": {},
   "outputs": [],
   "source": [
    "# find the genes in the pathway (manual)"
   ]
  },
  {
   "cell_type": "code",
   "execution_count": null,
   "metadata": {},
   "outputs": [],
   "source": []
  },
  {
   "cell_type": "markdown",
   "metadata": {},
   "source": [
    "# SVM"
   ]
  },
  {
   "cell_type": "code",
   "execution_count": null,
   "metadata": {},
   "outputs": [],
   "source": [
    "disease_labels = props['disease']\n",
    "propsfeatures = props.iloc[:,1:(len(props.columns) - 1)]\n",
    "X_train, X_test, y_train, y_test = train_test_split(propsfeatures, disease_labels, test_size = 0.3, random_state = 100)\n",
    "X_test.replace([np.inf, -np.inf], np.nan)\n",
    "X_test = X_test.fillna(X_test.mean())\n",
    "X_train.replace([np.inf, -np.inf], np.nan)\n",
    "X_train = X_train.fillna(X_train.mean())\n",
    "y_train.replace([np.inf, -np.inf], np.nan)\n",
    "y_train = y_train.fillna(y_train.mean())\n",
    "y_test.replace([np.inf, -np.inf], np.nan)\n",
    "y_test = y_test.fillna(y_test.mean())\n"
   ]
  },
  {
   "cell_type": "code",
   "execution_count": null,
   "metadata": {},
   "outputs": [],
   "source": [
    "clf_svm = svm.SVC(gamma='scale', decision_function_shape='ovo')\n",
    "clf_svm.fit(X_train, y_train) \n",
    "y_pred = clf_svm.predict(X_test)\n",
    "print(\"Accuracy is \", accuracy_score(y_test,y_pred)*100)"
   ]
  },
  {
   "cell_type": "code",
   "execution_count": null,
   "metadata": {},
   "outputs": [],
   "source": [
    "clf_svm.support_vectors_.shape"
   ]
  },
  {
   "cell_type": "code",
   "execution_count": null,
   "metadata": {},
   "outputs": [],
   "source": [
    "lin_clf = svm.LinearSVC()\n",
    "lin_clf.fit(X_train, y_train)\n",
    "y_pred = lin_clf.predict(X_test)\n",
    "print(\"Accuracy is \", accuracy_score(y_test,y_pred)*100)"
   ]
  },
  {
   "cell_type": "code",
   "execution_count": null,
   "metadata": {},
   "outputs": [],
   "source": [
    "lin_clf.coef_"
   ]
  },
  {
   "cell_type": "code",
   "execution_count": null,
   "metadata": {},
   "outputs": [],
   "source": [
    "lin_clf.decision_function"
   ]
  },
  {
   "cell_type": "code",
   "execution_count": null,
   "metadata": {},
   "outputs": [],
   "source": [
    "dec = lin_clf.decision_function([[1]])"
   ]
  },
  {
   "cell_type": "code",
   "execution_count": null,
   "metadata": {},
   "outputs": [],
   "source": []
  },
  {
   "cell_type": "code",
   "execution_count": null,
   "metadata": {},
   "outputs": [],
   "source": [
    "print(__doc__)\n",
    "\n",
    "\n",
    "# Code source: Gaël Varoquaux\n",
    "# Modified for documentation by Jaques Grobler\n",
    "# License: BSD 3 clause\n",
    "\n",
    "import numpy as np\n",
    "import matplotlib.pyplot as plt\n",
    "from sklearn import svm\n",
    "\n",
    "# we create 40 separable points\n",
    "np.random.seed(0)\n",
    "X = np.r_[np.random.randn(20, 2) - [2, 2], np.random.randn(20, 2) + [2, 2]]\n",
    "Y = [0] * 20 + [1] * 20\n",
    "\n",
    "# figure number\n",
    "fignum = 1\n",
    "\n",
    "# fit the model\n",
    "for name, penalty in (('unreg', 1), ('reg', 0.05)):\n",
    "\n",
    "    clf = svm.SVC(kernel='linear', C=penalty)\n",
    "    clf.fit(X, Y)\n",
    "\n",
    "    # get the separating hyperplane\n",
    "    w = clf.coef_[0]\n",
    "    a = -w[0] / w[1]\n",
    "    xx = np.linspace(-5, 5)\n",
    "    yy = a * xx - (clf.intercept_[0]) / w[1]\n",
    "\n",
    "    # plot the parallels to the separating hyperplane that pass through the\n",
    "    # support vectors (margin away from hyperplane in direction\n",
    "    # perpendicular to hyperplane). This is sqrt(1+a^2) away vertically in\n",
    "    # 2-d.\n",
    "    margin = 1 / np.sqrt(np.sum(clf.coef_ ** 2))\n",
    "    yy_down = yy - np.sqrt(1 + a ** 2) * margin\n",
    "    yy_up = yy + np.sqrt(1 + a ** 2) * margin\n",
    "\n",
    "    # plot the line, the points, and the nearest vectors to the plane\n",
    "    plt.figure(fignum, figsize=(4, 3))\n",
    "    plt.clf()\n",
    "    plt.plot(xx, yy, 'k-')\n",
    "    plt.plot(xx, yy_down, 'k--')\n",
    "    plt.plot(xx, yy_up, 'k--')\n",
    "    print(clf.support_vectors_.shape, 'support vectors')\n",
    "    plt.scatter(clf.support_vectors_[:, 0], clf.support_vectors_[:, 1], s=80,\n",
    "                facecolors='none', zorder=10, edgecolors='k')\n",
    "    plt.scatter(X[:, 0], X[:, 1], c=Y, zorder=10, cmap=plt.cm.Paired,\n",
    "                edgecolors='k')\n",
    "\n",
    "    plt.axis('tight')\n",
    "    x_min = -4.8\n",
    "    x_max = 4.2\n",
    "    y_min = -6\n",
    "    y_max = 6\n",
    "\n",
    "    XX, YY = np.mgrid[x_min:x_max:200j, y_min:y_max:200j]\n",
    "    Z = clf.predict(np.c_[XX.ravel(), YY.ravel()])\n",
    "\n",
    "    # Put the result into a color plot\n",
    "    Z = Z.reshape(XX.shape)\n",
    "    plt.figure(fignum, figsize=(4, 3))\n",
    "    plt.pcolormesh(XX, YY, Z, cmap=plt.cm.Paired)\n",
    "\n",
    "    plt.xlim(x_min, x_max)\n",
    "    plt.ylim(y_min, y_max)\n",
    "\n",
    "    plt.xticks(())\n",
    "    plt.yticks(())\n",
    "    fignum = fignum + 1\n",
    "\n",
    "plt.show()"
   ]
  },
  {
   "cell_type": "markdown",
   "metadata": {},
   "source": [
    "Review of today\n",
    "- we tuned the hyperparameters to optimize our multi-disease classification problem and achieved a RF accuracy of 77\\%, a grid search acorss (the nubmer of estimators, tree depth, and samples in leaf nodes)\n",
    "- we ensured that our model was not overfitting to all of the features, by using the subset of the 50 most commonly used features/pathways and noted no drop in accuracy with the fewer feature model\n",
    "- we mapped the pathways to the most\n",
    "\n",
    "\n",
    "to do me \n",
    "- get the genes from svm and rf one vs all make txt file for each disease and each method with one gene per line of the set of genes that are most important for distinguishing one disease from the other"
   ]
  },
  {
   "cell_type": "code",
   "execution_count": null,
   "metadata": {},
   "outputs": [],
   "source": [
    "print(__doc__)\n",
    "\n",
    "import numpy as np\n",
    "import matplotlib.pyplot as plt\n",
    "\n",
    "from sklearn.datasets import make_multilabel_classification\n",
    "from sklearn.multiclass import OneVsRestClassifier\n",
    "from sklearn.svm import SVC\n",
    "from sklearn.decomposition import PCA\n",
    "from sklearn.cross_decomposition import CCA"
   ]
  },
  {
   "cell_type": "code",
   "execution_count": null,
   "metadata": {},
   "outputs": [],
   "source": [
    "X, Y = make_multilabel_classification(n_classes=2, n_labels=1,\n",
    "                                      allow_unlabeled=True,\n",
    "                                      random_state=1)\n",
    "np.where(Y[:, 0])"
   ]
  },
  {
   "cell_type": "code",
   "execution_count": null,
   "metadata": {},
   "outputs": [],
   "source": [
    "X = X_train\n",
    "Y = y_train\n",
    "np.where(y_train==1)"
   ]
  },
  {
   "cell_type": "code",
   "execution_count": null,
   "metadata": {},
   "outputs": [],
   "source": [
    "classif = OneVsRestClassifier(SVC(kernel='linear'))\n",
    "classif.fit(X, Y)\n",
    "classif.estimators_\n"
   ]
  },
  {
   "cell_type": "code",
   "execution_count": null,
   "metadata": {},
   "outputs": [],
   "source": [
    "def plot_hyperplane(clf, min_x, max_x, linestyle, label):\n",
    "    # get the separating hyperplane\n",
    "    w = clf.coef_[0]\n",
    "    a = -w[0] / w[1]\n",
    "    xx = np.linspace(min_x - 5, max_x + 5)  # make sure the line is long enough\n",
    "    yy = a * xx - (clf.intercept_[0]) / w[1]\n",
    "    plt.plot(xx, yy, linestyle, label=label)\n",
    "\n",
    "\n",
    "def plot_subfigure(X, Y, subplot, title, transform):\n",
    "    if transform == \"pca\":\n",
    "        X = PCA(n_components=10).fit_transform(X)\n",
    "    elif transform == \"cca\":\n",
    "        X = CCA(n_components=10).fit(X, Y).transform(X)\n",
    "    else:\n",
    "        raise ValueError\n",
    "#     print(X.shape, 'X.shape') #(nsamples,2)\n",
    "    min_x = np.min(X[:, 0])\n",
    "    max_x = np.max(X[:, 0])\n",
    "\n",
    "    min_y = np.min(X[:, 1])\n",
    "    max_y = np.max(X[:, 1])\n",
    "\n",
    "    classif = OneVsRestClassifier(SVC(kernel='linear'))\n",
    "    classif.fit(X, Y)\n",
    "\n",
    "    plt.subplot(2, 2, subplot)\n",
    "    plt.title(title)\n",
    "\n",
    "    one_class = np.where(Y==1)\n",
    "    two_class = np.where(Y==2)\n",
    "    three_class = np.where(Y==3)\n",
    "    plt.scatter(X[:, 0], X[:, 1], s=40, c='gray', edgecolors=(0, 0, 0))\n",
    "    plt.scatter(X[one_class, 0], X[one_class, 1], s=160, edgecolors='b',\n",
    "                facecolors='none', linewidths=2, label='SCZ')\n",
    "    plt.scatter(X[two_class, 0], X[two_class, 1], s=80, edgecolors='orange',\n",
    "                facecolors='none', linewidths=2, label='MDD')\n",
    "    plt.scatter(X[three_class, 0], X[three_class, 1], s=80, edgecolors='green',\n",
    "                facecolors='none', linewidths=2, label='BPD')\n",
    "    \n",
    "    plot_hyperplane(classif.estimators_[0], min_x, max_x, 'k--',\n",
    "                    'Boundary\\nfor SCZvall')\n",
    "    plot_hyperplane(classif.estimators_[1], min_x, max_x, 'k-.',\n",
    "                    'Boundary\\nfor MDDvall')\n",
    "    plot_hyperplane(classif.estimators_[2], min_x, max_x, 'k-.',\n",
    "                    'Boundary\\nfor BPDvall')\n",
    "    plt.xticks(())\n",
    "    plt.yticks(())\n",
    "\n",
    "    plt.xlim(min_x - .5 * max_x, max_x + .5 * max_x)\n",
    "    plt.ylim(min_y - .5 * max_y, max_y + .5 * max_y)\n",
    "    if subplot == 2:\n",
    "        plt.xlabel('First principal component')\n",
    "        plt.ylabel('Second principal component')\n",
    "        plt.legend(loc=\"upper left\")\n",
    "\n",
    "\n",
    "plt.figure(figsize=(8, 6))\n",
    "\n",
    "plot_subfigure(X, Y, 1, \"With unlabeled samples + CCA\", \"cca\")\n",
    "plot_subfigure(X, Y, 2, \"With unlabeled samples + PCA\", \"pca\")\n",
    "\n",
    "# X, Y = make_multilabel_classification(n_classes=2, n_labels=1,\n",
    "#                                       allow_unlabeled=False,\n",
    "#                                       random_state=1)\n",
    "\n",
    "# plot_subfigure(X, Y, 3, \"Without unlabeled samples + CCA\", \"cca\")\n",
    "# plot_subfigure(X, Y, 4, \"Without unlabeled samples + PCA\", \"pca\")\n",
    "\n",
    "plt.subplots_adjust(.04, .02, .97, .94, .09, .2)\n",
    "plt.show()"
   ]
  },
  {
   "cell_type": "code",
   "execution_count": null,
   "metadata": {
    "scrolled": true
   },
   "outputs": [],
   "source": [
    "X = PCA(n_components=10).fit(X_train, y_train).transform(X_train)\n",
    "plt.scatter(X[:,0],X[:,9])"
   ]
  },
  {
   "cell_type": "code",
   "execution_count": null,
   "metadata": {},
   "outputs": [],
   "source": []
  }
 ],
 "metadata": {
  "kernelspec": {
   "display_name": "Python 3",
   "language": "python",
   "name": "python3"
  },
  "language_info": {
   "codemirror_mode": {
    "name": "ipython",
    "version": 3
   },
   "file_extension": ".py",
   "mimetype": "text/x-python",
   "name": "python",
   "nbconvert_exporter": "python",
   "pygments_lexer": "ipython3",
   "version": "3.7.3"
  }
 },
 "nbformat": 4,
 "nbformat_minor": 2
}
